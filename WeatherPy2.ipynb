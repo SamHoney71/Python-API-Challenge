{
 "cells": [
  {
   "cell_type": "markdown",
   "metadata": {},
   "source": [
    "# WeatherPy\n",
    "----\n",
    "\n",
    "#### Note\n",
    "* Instructions have been included for each segment. You do not have to follow them exactly, but they are included to help you think through the steps."
   ]
  },
  {
   "cell_type": "code",
   "execution_count": 1,
   "metadata": {
    "scrolled": true
   },
   "outputs": [],
   "source": [
    "# Import dependancies\n",
    "import random\n",
    "import json\n",
    "import requests\n",
    "import matplotlib.pyplot as plt\n",
    "import scipy.stats as st\n",
    "import pandas as pd\n",
    "from api_keys import weather_api_key\n",
    "import citipy\n",
    "from citipy import citipy\n",
    "import time\n"
   ]
  },
  {
   "cell_type": "markdown",
   "metadata": {},
   "source": [
    "## Generate Cities List"
   ]
  },
  {
   "cell_type": "code",
   "execution_count": 2,
   "metadata": {},
   "outputs": [],
   "source": [
    "#Random coordinates for northen hemisphere\n",
    "ne_coords = [(random.random()*-90, random.random()*180) for _ in range(15)]\n",
    "nw_coords = [(random.random()*90, random.random()*180) for _ in range(15)]\n",
    "\n",
    "# #random coordiantes for southern hemisphere\n",
    "se_coords = [(random.random()*-90, random.random()*-180) for _ in range(15)]\n",
    "sw_coords = [(random.random()*-90, random.random()*-180) for _ in range(15)]\n",
    "#print(sw_coords)\n",
    "\n",
    "ne_city_names=[]\n",
    "nw_city_names=[]\n",
    "se_city_names=[]\n",
    "sw_city_names=[]\n",
    "\n",
    "ne_country_codes=[]\n",
    "nw_country_codes=[]\n",
    "se_country_codes=[]\n",
    "sw_country_codes=[]\n",
    "\n",
    "for cord in ne_coords:\n",
    "    city = citipy.nearest_city(cord[0],cord[1])\n",
    "    ne_city_names.append(city.city_name)\n",
    "    ne_city_names = [x.title() for x in ne_city_names]\n",
    "    ne_country_codes.append(city.country_code)\n",
    "    ne_country_codes = [x.upper() for x in ne_country_codes]\n",
    "    \n",
    "for cord in nw_coords:\n",
    "    city = citipy.nearest_city(cord[0],cord[1])\n",
    "    nw_city_names.append(city.city_name)\n",
    "    nw_city_names = [x.title() for x in nw_city_names]\n",
    "    nw_country_codes.append(city.country_code)\n",
    "    nw_country_codes = [x.upper() for x in nw_country_codes]\n",
    "\n",
    "\n",
    "for cord in se_coords:\n",
    "    city = citipy.nearest_city(cord[0],cord[1])\n",
    "    se_city_names.append(city.city_name)\n",
    "    se_city_names = [x.title() for x in se_city_names]\n",
    "    se_country_codes.append(city.country_code)\n",
    "    se_country_codes = [x.upper() for x in se_country_codes]\n",
    "    \n",
    "for cord in sw_coords:\n",
    "    city = citipy.nearest_city(cord[0],cord[1])\n",
    "    sw_city_names.append(city.city_name)\n",
    "    sw_city_names = [x.title() for x in sw_city_names]\n",
    "    sw_country_codes.append(city.country_code)\n",
    "    sw_country_codes = [x.upper() for x in sw_country_codes]\n",
    "\n",
    "# print(ne_city_names)\n",
    "# print(ne_country_codes)\n",
    "# print('-------')\n",
    "# print(nw_city_names)\n",
    "# print('-------')\n",
    "# print(se_city_names)\n",
    "# print('-------')\n",
    "# print(sw_city_names)   \n"
   ]
  },
  {
   "cell_type": "markdown",
   "metadata": {},
   "source": [
    "### Perform API Calls\n",
    "* Perform a weather check on each city using a series of successive API calls.\n",
    "* Include a print log of each city as it'sbeing processed (with the city number and city name).\n"
   ]
  },
  {
   "cell_type": "code",
   "execution_count": 3,
   "metadata": {},
   "outputs": [],
   "source": [
    "# Save configurations information\n",
    "url = \"http://api.openweathermap.org/data/2.5/weather?\"\n",
    "units = 'imperial'\n",
    "\n",
    "\n",
    "# Build partial query URL\n",
    "query_url = f\"{url}appid={weather_api_key}&units={units}&q=\"\n",
    "#print(query_url)\n"
   ]
  },
  {
   "cell_type": "code",
   "execution_count": 4,
   "metadata": {},
   "outputs": [
    {
     "name": "stdout",
     "output_type": "stream",
     "text": [
      "Processing record 1 of Region NE | Hermanus\n",
      "Processing record 2 of Region NE | Victoria\n",
      "Processing record 3 of Region NE | Mitsamiouli\n",
      "Processing record 4 of Region NE | Albany\n",
      "Processing record 5 of Region NE | Port Alfred\n",
      "Processing record 6 of Region NE | Ahipara\n",
      "Processing record 7 of Region NE | Hermanus\n",
      "Processing record 8 of Region NE | Beira\n",
      "Processing record 9 of Region NE | Taolanaro\n",
      "Processing record 10 of Region NE | Saint-Philippe\n",
      "Processing record 11 of Region NE | Samarai\n",
      "Processing record 12 of Region NE | Hobart\n",
      "Processing record 13 of Region NE | Mahebourg\n",
      "Processing record 14 of Region NE | Mahebourg\n",
      "Processing record 15 of Region NE | Port-Gentil\n"
     ]
    }
   ],
   "source": [
    "# North East Region of the Globe\n",
    "\n",
    "ne_mtemp =[]\n",
    "ne_lat = []\n",
    "ne_lon =[]\n",
    "ne_humidity = []\n",
    "ne_cloudiness = []\n",
    "ne_wind_speed = []\n",
    "ne_date = []\n",
    "count = 0\n",
    "\n",
    "\n",
    "for city in ne_city_names:   \n",
    "    weather_response = requests.get(query_url+city).json()\n",
    "    count =count + 1\n",
    "    print(f'Processing record {count} of Region NE | {city}')\n",
    "    time.sleep(0.1)\n",
    "#     print(json.dumps(weather_response, indent=4, sort_keys=True))\n",
    "    try:\n",
    "        ne_mtemp.append(weather_response['main']['temp_max'])\n",
    "    except KeyError:\n",
    "        ne_mtemp.append('')\n",
    "    try:\n",
    "        ne_lat.append(weather_response['coord']['lat'])\n",
    "    except KeyError:\n",
    "        ne_lat.append('')\n",
    "    try:\n",
    "        ne_lon.append(weather_response['coord']['lon'])\n",
    "    except KeyError:\n",
    "        ne_lon.append('')\n",
    "\n",
    "    try:\n",
    "        ne_humidity.append(weather_response['main']['humidity'])\n",
    "    except KeyError:\n",
    "        ne_humidity.append('')\n",
    "    try:\n",
    "        ne_cloudiness.append(weather_response[\"clouds\"]['all'])\n",
    "    except KeyError:\n",
    "        ne_cloudiness.append('')\n",
    "    try:\n",
    "        ne_wind_speed.append(weather_response['wind']['speed'])\n",
    "    except KeyError:\n",
    "        ne_wind_speed.append('')\n",
    "    try:\n",
    "        ne_date.append(weather_response['dt'])\n",
    "    except KeyError:\n",
    "        ne_date.append('')\n",
    "        \n",
    "# print(f\"Max Temp: {ne_mtemp}\")\n",
    "# print(f\"Latitude: {ne_lat}\")\n",
    "# print(f'Longitude: {ne_lon}')\n",
    "# print(f'Humidity: {ne_humidity}')\n",
    "# print(f\"Cloudiness: {ne_cloudiness}\")\n",
    "# print(f\"Wind speed: {ne_wind_speed}\")\n",
    "# print(f\"Date: {ne_date}\")\n",
    "\n"
   ]
  },
  {
   "cell_type": "code",
   "execution_count": 5,
   "metadata": {},
   "outputs": [
    {
     "name": "stdout",
     "output_type": "stream",
     "text": [
      "Processing record 1 of Region SE | Jamestown\n",
      "Processing record 2 of Region SE | Faanui\n",
      "Processing record 3 of Region SE | Iquitos\n",
      "Processing record 4 of Region SE | Rikitea\n",
      "Processing record 5 of Region SE | Jamestown\n",
      "Processing record 6 of Region SE | Ushuaia\n",
      "Processing record 7 of Region SE | Vaini\n",
      "Processing record 8 of Region SE | Puerto Ayora\n",
      "Processing record 9 of Region SE | Castro\n",
      "Processing record 10 of Region SE | Ushuaia\n",
      "Processing record 11 of Region SE | Rikitea\n",
      "Processing record 12 of Region SE | Punta Arenas\n",
      "Processing record 13 of Region SE | Ushuaia\n",
      "Processing record 14 of Region SE | Castro\n",
      "Processing record 15 of Region SE | Rikitea\n"
     ]
    }
   ],
   "source": [
    "# South East Region of the Globe\n",
    "\n",
    "se_mtemp =[]\n",
    "se_lat = []\n",
    "se_lon =[]\n",
    "se_humidity = []\n",
    "se_cloudiness = []\n",
    "se_wind_speed = []\n",
    "se_date = []\n",
    "count = 0\n",
    "\n",
    "\n",
    "for city in se_city_names:   \n",
    "    weather_response = requests.get(query_url+city).json()\n",
    "    count =count + 1\n",
    "    print(f'Processing record {count} of Region SE | {city}')\n",
    "    time.sleep(0.1)\n",
    "#    print(json.dumps(weather_response, indent=4, sort_keys=True))\n",
    "    try:\n",
    "        se_mtemp.append(weather_response['main']['temp_max'])\n",
    "    except KeyError:\n",
    "        se_mtemp.append('')\n",
    "    try:\n",
    "        se_lat.append(weather_response['coord']['lat'])\n",
    "    except KeyError:\n",
    "        se_lat.append('')\n",
    "    try:\n",
    "        se_lon.append(weather_response['coord']['lon'])\n",
    "    except KeyError:\n",
    "        se_lon.append('')\n",
    "\n",
    "    try:\n",
    "        se_humidity.append(weather_response['main']['humidity'])\n",
    "    except KeyError:\n",
    "        se_humidity.append('')\n",
    "    try:\n",
    "        se_cloudiness.append(weather_response[\"clouds\"]['all'])\n",
    "    except KeyError:\n",
    "        se_cloudiness.append('')\n",
    "    try:\n",
    "        se_wind_speed.append(weather_response['wind']['speed'])\n",
    "    except KeyError:\n",
    "        se_wind_speed.append('')\n",
    "    try:\n",
    "        se_date.append(weather_response['dt'])\n",
    "    except KeyError:\n",
    "        se_date.append('')\n",
    "        \n",
    "# print(f\"Max Temp: {se_mtemp}\")\n",
    "# print(f\"Latitude: {se_lat}\")\n",
    "# print(f'Longitude: {se_lon}')\n",
    "# print(f'Humidity: {se_humidity}')\n",
    "# print(f\"Cloudiness: {se_cloudiness}\")\n",
    "# print(f\"Wind speed: {se_wind_speed}\")\n",
    "# print(f\"Date: {se_date}\")\n",
    "\n",
    "\n",
    " "
   ]
  },
  {
   "cell_type": "code",
   "execution_count": 6,
   "metadata": {},
   "outputs": [
    {
     "name": "stdout",
     "output_type": "stream",
     "text": [
      "Processing record 1 of Region SW | Mataura\n",
      "Processing record 2 of Region SW | Bataipora\n",
      "Processing record 3 of Region SW | Rikitea\n",
      "Processing record 4 of Region SW | Tautira\n",
      "Processing record 5 of Region SW | Mataura\n",
      "Processing record 6 of Region SW | Vaitupu\n",
      "Processing record 7 of Region SW | Vaitupu\n",
      "Processing record 8 of Region SW | Mataura\n",
      "Processing record 9 of Region SW | Ancud\n",
      "Processing record 10 of Region SW | Avarua\n",
      "Processing record 11 of Region SW | Avarua\n",
      "Processing record 12 of Region SW | Rikitea\n",
      "Processing record 13 of Region SW | Castro\n",
      "Processing record 14 of Region SW | Indiaroba\n",
      "Processing record 15 of Region SW | Lebu\n"
     ]
    }
   ],
   "source": [
    "# South West Region of the Globe\n",
    "\n",
    "sw_mtemp =[]\n",
    "sw_lat = []\n",
    "sw_lon =[]\n",
    "sw_humidity = []\n",
    "sw_cloudiness = []\n",
    "sw_wind_speed = []\n",
    "sw_date = []\n",
    "count = 0\n",
    "\n",
    "for city in sw_city_names:   \n",
    "    weather_response = requests.get(query_url+city).json()\n",
    "    count =count + 1\n",
    "    print(f'Processing record {count} of Region SW | {city}')\n",
    "    time.sleep(0.1)\n",
    "#    print(json.dumps(weather_response, indent=4, sort_keys=True))\n",
    "    try:\n",
    "        sw_mtemp.append(weather_response['main']['temp_max'])\n",
    "    except KeyError:\n",
    "        sw_mtemp.append('')\n",
    "    try:\n",
    "        sw_lat.append(weather_response['coord']['lat'])\n",
    "    except KeyError:\n",
    "        sw_lat.append('')\n",
    "    try:\n",
    "        sw_lon.append(weather_response['coord']['lon'])\n",
    "    except KeyError:\n",
    "        sw_lon.append('')\n",
    "\n",
    "    try:\n",
    "        sw_humidity.append(weather_response['main']['humidity'])\n",
    "    except KeyError:\n",
    "        sw_humidity.append('')\n",
    "    try:\n",
    "        sw_cloudiness.append(weather_response[\"clouds\"]['all'])\n",
    "    except KeyError:\n",
    "        sw_cloudiness.append('')\n",
    "    try:\n",
    "        sw_wind_speed.append(weather_response['wind']['speed'])\n",
    "    except KeyError:\n",
    "        sw_wind_speed.append('')\n",
    "    try:\n",
    "        sw_date.append(weather_response['dt'])\n",
    "    except KeyError:\n",
    "        sw_date.append('')\n",
    "        \n",
    "# print(f\"Max Temp: {sw_mtemp}\")\n",
    "# print(f\"Latitude: {sw_lat}\")\n",
    "# print(f'Longitude: {sw_lon}')\n",
    "# print(f'Humidity: {sw_humidity}')\n",
    "# print(f\"Cloudiness: {sw_cloudiness}\")\n",
    "# print(f\"Wind speed: {sw_wind_speed}\")\n",
    "# print(f\"Date: {sw_date}\")"
   ]
  },
  {
   "cell_type": "code",
   "execution_count": 7,
   "metadata": {},
   "outputs": [
    {
     "name": "stdout",
     "output_type": "stream",
     "text": [
      "Processing record 1 of Region NW | Cefalu\n",
      "Processing record 2 of Region NW | Kandiari\n",
      "Processing record 3 of Region NW | Kozelsk\n",
      "Processing record 4 of Region NW | Butaritari\n",
      "Processing record 5 of Region NW | Abu Samrah\n",
      "Processing record 6 of Region NW | Umea\n",
      "Processing record 7 of Region NW | Katsuura\n",
      "Processing record 8 of Region NW | Polonnaruwa\n",
      "Processing record 9 of Region NW | Mount Abu\n",
      "Processing record 10 of Region NW | Amderma\n",
      "Processing record 11 of Region NW | Makat\n",
      "Processing record 12 of Region NW | Nizhneyansk\n",
      "Processing record 13 of Region NW | Tagusao\n",
      "Processing record 14 of Region NW | Yuzhno-Yeniseyskiy\n",
      "Processing record 15 of Region NW | Kamenskoye\n"
     ]
    }
   ],
   "source": [
    "# North West Region of the Globe\n",
    "\n",
    "nw_mtemp =[]\n",
    "nw_lat = []\n",
    "nw_lon =[]\n",
    "nw_humidity = []\n",
    "nw_cloudiness = []\n",
    "nw_wind_speed = []\n",
    "nw_date = []\n",
    "count = 0\n",
    "\n",
    "for city in nw_city_names:   \n",
    "    weather_response = requests.get(query_url+city).json()\n",
    "    count =count + 1\n",
    "    print(f'Processing record {count} of Region NW | {city}')\n",
    "    time.sleep(0.1)\n",
    "#    print(json.dumps(weather_response, indent=4, sort_keys=True))\n",
    "    try:\n",
    "        nw_mtemp.append(weather_response['main']['temp_max'])\n",
    "    except KeyError:\n",
    "        nw_mtemp.append('')\n",
    "    try:\n",
    "        nw_lat.append(weather_response['coord']['lat'])\n",
    "    except KeyError:\n",
    "        nw_lat.append('')\n",
    "    try:\n",
    "        nw_lon.append(weather_response['coord']['lon'])\n",
    "    except KeyError:\n",
    "        nw_lon.append('')\n",
    "\n",
    "    try:\n",
    "        nw_humidity.append(weather_response['main']['humidity'])\n",
    "    except KeyError:\n",
    "        nw_humidity.append('')\n",
    "    try:\n",
    "        nw_cloudiness.append(weather_response[\"clouds\"]['all'])\n",
    "    except KeyError:\n",
    "        nw_cloudiness.append('')\n",
    "    try:\n",
    "        nw_wind_speed.append(weather_response['wind']['speed'])\n",
    "    except KeyError:\n",
    "        nw_wind_speed.append('')\n",
    "    try:\n",
    "        nw_date.append(weather_response['dt'])\n",
    "    except KeyError:\n",
    "        nw_date.append('')\n",
    "        \n",
    "# print(f\"Max Temp: {nw_mtemp}\")\n",
    "# print(f\"Latitude: {nw_lat}\")\n",
    "# print(f'Longitude: {nw_lon}')\n",
    "# print(f'Humidity: {nw_humidity}')\n",
    "# print(f\"Cloudiness: {nw_cloudiness}\")\n",
    "# print(f\"Wind speed: {nw_wind_speed}\")\n",
    "# print(f\"Date: {nw_date}\")"
   ]
  },
  {
   "cell_type": "code",
   "execution_count": 8,
   "metadata": {},
   "outputs": [],
   "source": [
    "# Combine Lists\n",
    " \n",
    "lat = nw_lat + sw_lat + ne_lat + se_lat\n",
    "lon = nw_lon + sw_lon + ne_lon + se_lon\n",
    "mtemp = nw_mtemp + sw_mtemp + ne_mtemp + se_mtemp\n",
    "humidity = nw_humidity + sw_humidity + ne_humidity + se_humidity\n",
    "wind_speed = nw_wind_speed + sw_wind_speed + ne_wind_speed + se_wind_speed\n",
    "cloudiness = nw_cloudiness + sw_cloudiness + ne_cloudiness + se_cloudiness\n",
    "date = nw_date + sw_date + ne_date + se_date\n",
    "\n",
    "city_names = ne_city_names + nw_city_names + se_city_names + sw_city_names\n",
    "country_codes = ne_country_codes + nw_country_codes + se_country_codes + sw_country_codes"
   ]
  },
  {
   "cell_type": "code",
   "execution_count": 9,
   "metadata": {
    "scrolled": true
   },
   "outputs": [
    {
     "data": {
      "text/html": [
       "<div>\n",
       "<style scoped>\n",
       "    .dataframe tbody tr th:only-of-type {\n",
       "        vertical-align: middle;\n",
       "    }\n",
       "\n",
       "    .dataframe tbody tr th {\n",
       "        vertical-align: top;\n",
       "    }\n",
       "\n",
       "    .dataframe thead th {\n",
       "        text-align: right;\n",
       "    }\n",
       "</style>\n",
       "<table border=\"1\" class=\"dataframe\">\n",
       "  <thead>\n",
       "    <tr style=\"text-align: right;\">\n",
       "      <th></th>\n",
       "      <th>City</th>\n",
       "      <th>Lat</th>\n",
       "      <th>Lng</th>\n",
       "      <th>Max Temp</th>\n",
       "      <th>Humidity</th>\n",
       "      <th>Wind Speed</th>\n",
       "      <th>Cloudiness</th>\n",
       "      <th>Country</th>\n",
       "      <th>Date</th>\n",
       "    </tr>\n",
       "  </thead>\n",
       "  <tbody>\n",
       "    <tr>\n",
       "      <th>0</th>\n",
       "      <td>Hermanus</td>\n",
       "      <td>38.04</td>\n",
       "      <td>14.02</td>\n",
       "      <td>61.00</td>\n",
       "      <td>79.0</td>\n",
       "      <td>4.00</td>\n",
       "      <td>70.0</td>\n",
       "      <td>ZA</td>\n",
       "      <td>1.604100e+09</td>\n",
       "    </tr>\n",
       "    <tr>\n",
       "      <th>1</th>\n",
       "      <td>Victoria</td>\n",
       "      <td>26.92</td>\n",
       "      <td>68.52</td>\n",
       "      <td>69.15</td>\n",
       "      <td>24.0</td>\n",
       "      <td>2.30</td>\n",
       "      <td>0.0</td>\n",
       "      <td>SC</td>\n",
       "      <td>1.604100e+09</td>\n",
       "    </tr>\n",
       "    <tr>\n",
       "      <th>2</th>\n",
       "      <td>Mitsamiouli</td>\n",
       "      <td>54.04</td>\n",
       "      <td>35.77</td>\n",
       "      <td>42.80</td>\n",
       "      <td>93.0</td>\n",
       "      <td>2.15</td>\n",
       "      <td>90.0</td>\n",
       "      <td>KM</td>\n",
       "      <td>1.604100e+09</td>\n",
       "    </tr>\n",
       "    <tr>\n",
       "      <th>3</th>\n",
       "      <td>Albany</td>\n",
       "      <td>3.07</td>\n",
       "      <td>172.79</td>\n",
       "      <td>82.56</td>\n",
       "      <td>77.0</td>\n",
       "      <td>21.45</td>\n",
       "      <td>70.0</td>\n",
       "      <td>AU</td>\n",
       "      <td>1.604100e+09</td>\n",
       "    </tr>\n",
       "    <tr>\n",
       "      <th>4</th>\n",
       "      <td>Port Alfred</td>\n",
       "      <td>35.30</td>\n",
       "      <td>37.18</td>\n",
       "      <td>62.92</td>\n",
       "      <td>68.0</td>\n",
       "      <td>2.64</td>\n",
       "      <td>95.0</td>\n",
       "      <td>ZA</td>\n",
       "      <td>1.604100e+09</td>\n",
       "    </tr>\n",
       "    <tr>\n",
       "      <th>5</th>\n",
       "      <td>Ahipara</td>\n",
       "      <td>63.83</td>\n",
       "      <td>20.26</td>\n",
       "      <td>26.60</td>\n",
       "      <td>100.0</td>\n",
       "      <td>4.70</td>\n",
       "      <td>0.0</td>\n",
       "      <td>NZ</td>\n",
       "      <td>1.604100e+09</td>\n",
       "    </tr>\n",
       "    <tr>\n",
       "      <th>6</th>\n",
       "      <td>Hermanus</td>\n",
       "      <td>35.13</td>\n",
       "      <td>140.30</td>\n",
       "      <td>59.00</td>\n",
       "      <td>41.0</td>\n",
       "      <td>5.99</td>\n",
       "      <td>0.0</td>\n",
       "      <td>ZA</td>\n",
       "      <td>1.604100e+09</td>\n",
       "    </tr>\n",
       "    <tr>\n",
       "      <th>7</th>\n",
       "      <td>Beira</td>\n",
       "      <td>7.93</td>\n",
       "      <td>81.00</td>\n",
       "      <td>74.35</td>\n",
       "      <td>87.0</td>\n",
       "      <td>3.40</td>\n",
       "      <td>88.0</td>\n",
       "      <td>MZ</td>\n",
       "      <td>1.604100e+09</td>\n",
       "    </tr>\n",
       "    <tr>\n",
       "      <th>8</th>\n",
       "      <td>Taolanaro</td>\n",
       "      <td>24.60</td>\n",
       "      <td>72.70</td>\n",
       "      <td>59.36</td>\n",
       "      <td>34.0</td>\n",
       "      <td>4.23</td>\n",
       "      <td>0.0</td>\n",
       "      <td>MG</td>\n",
       "      <td>1.604100e+09</td>\n",
       "    </tr>\n",
       "    <tr>\n",
       "      <th>9</th>\n",
       "      <td>Saint-Philippe</td>\n",
       "      <td>NaN</td>\n",
       "      <td>NaN</td>\n",
       "      <td>NaN</td>\n",
       "      <td>NaN</td>\n",
       "      <td>NaN</td>\n",
       "      <td>NaN</td>\n",
       "      <td>RE</td>\n",
       "      <td>NaN</td>\n",
       "    </tr>\n",
       "  </tbody>\n",
       "</table>\n",
       "</div>"
      ],
      "text/plain": [
       "             City    Lat     Lng  Max Temp  Humidity  Wind Speed  Cloudiness  \\\n",
       "0        Hermanus  38.04   14.02     61.00      79.0        4.00        70.0   \n",
       "1        Victoria  26.92   68.52     69.15      24.0        2.30         0.0   \n",
       "2     Mitsamiouli  54.04   35.77     42.80      93.0        2.15        90.0   \n",
       "3          Albany   3.07  172.79     82.56      77.0       21.45        70.0   \n",
       "4     Port Alfred  35.30   37.18     62.92      68.0        2.64        95.0   \n",
       "5         Ahipara  63.83   20.26     26.60     100.0        4.70         0.0   \n",
       "6        Hermanus  35.13  140.30     59.00      41.0        5.99         0.0   \n",
       "7           Beira   7.93   81.00     74.35      87.0        3.40        88.0   \n",
       "8       Taolanaro  24.60   72.70     59.36      34.0        4.23         0.0   \n",
       "9  Saint-Philippe    NaN     NaN       NaN       NaN         NaN         NaN   \n",
       "\n",
       "  Country          Date  \n",
       "0      ZA  1.604100e+09  \n",
       "1      SC  1.604100e+09  \n",
       "2      KM  1.604100e+09  \n",
       "3      AU  1.604100e+09  \n",
       "4      ZA  1.604100e+09  \n",
       "5      NZ  1.604100e+09  \n",
       "6      ZA  1.604100e+09  \n",
       "7      MZ  1.604100e+09  \n",
       "8      MG  1.604100e+09  \n",
       "9      RE           NaN  "
      ]
     },
     "execution_count": 9,
     "metadata": {},
     "output_type": "execute_result"
    }
   ],
   "source": [
    "#Export into city data into .csv file\n",
    "\n",
    "# Build Data Frame\n",
    "\n",
    "weather_dict = {\n",
    "    \"City\": city_names,\n",
    "    \"Lat\": lat,\n",
    "    \"Lng\": lon,\n",
    "    \"Max Temp\": mtemp,\n",
    "    \"Humidity\": humidity, \n",
    "    \"Wind Speed\": wind_speed,\n",
    "    \"Cloudiness\": cloudiness, \n",
    "    \"Country\": country_codes,\n",
    "    \"Date\": date\n",
    "}\n",
    "weather_data = pd.DataFrame(weather_dict)\n",
    "\n",
    "# export to csv\n",
    "weather_data.to_csv(r'.\\output\\city_data.csv', encoding=\"utf-8\", index=False, header=True)\n",
    "\n",
    "#import csv as data frame\n",
    "city_data = pd.read_csv(\".\\output\\city_data.csv\")\n",
    "city_data.head(10)"
   ]
  },
  {
   "cell_type": "code",
   "execution_count": 10,
   "metadata": {},
   "outputs": [
    {
     "data": {
      "text/html": [
       "<div>\n",
       "<style scoped>\n",
       "    .dataframe tbody tr th:only-of-type {\n",
       "        vertical-align: middle;\n",
       "    }\n",
       "\n",
       "    .dataframe tbody tr th {\n",
       "        vertical-align: top;\n",
       "    }\n",
       "\n",
       "    .dataframe thead th {\n",
       "        text-align: right;\n",
       "    }\n",
       "</style>\n",
       "<table border=\"1\" class=\"dataframe\">\n",
       "  <thead>\n",
       "    <tr style=\"text-align: right;\">\n",
       "      <th></th>\n",
       "      <th>Lat</th>\n",
       "      <th>Lng</th>\n",
       "      <th>Max Temp</th>\n",
       "      <th>Humidity</th>\n",
       "      <th>Wind Speed</th>\n",
       "      <th>Cloudiness</th>\n",
       "      <th>Date</th>\n",
       "    </tr>\n",
       "  </thead>\n",
       "  <tbody>\n",
       "    <tr>\n",
       "      <th>count</th>\n",
       "      <td>53.000000</td>\n",
       "      <td>53.000000</td>\n",
       "      <td>53.000000</td>\n",
       "      <td>53.000000</td>\n",
       "      <td>53.000000</td>\n",
       "      <td>53.000000</td>\n",
       "      <td>5.300000e+01</td>\n",
       "    </tr>\n",
       "    <tr>\n",
       "      <th>mean</th>\n",
       "      <td>-10.417925</td>\n",
       "      <td>-5.691132</td>\n",
       "      <td>63.190377</td>\n",
       "      <td>75.792453</td>\n",
       "      <td>9.946415</td>\n",
       "      <td>57.037736</td>\n",
       "      <td>1.604100e+09</td>\n",
       "    </tr>\n",
       "    <tr>\n",
       "      <th>std</th>\n",
       "      <td>31.556214</td>\n",
       "      <td>104.056255</td>\n",
       "      <td>14.471482</td>\n",
       "      <td>16.670285</td>\n",
       "      <td>6.281903</td>\n",
       "      <td>40.112324</td>\n",
       "      <td>6.114747e+01</td>\n",
       "    </tr>\n",
       "    <tr>\n",
       "      <th>min</th>\n",
       "      <td>-54.800000</td>\n",
       "      <td>-175.200000</td>\n",
       "      <td>26.600000</td>\n",
       "      <td>24.000000</td>\n",
       "      <td>1.010000</td>\n",
       "      <td>0.000000</td>\n",
       "      <td>1.604100e+09</td>\n",
       "    </tr>\n",
       "    <tr>\n",
       "      <th>25%</th>\n",
       "      <td>-33.590000</td>\n",
       "      <td>-73.970000</td>\n",
       "      <td>53.910000</td>\n",
       "      <td>65.000000</td>\n",
       "      <td>5.950000</td>\n",
       "      <td>1.000000</td>\n",
       "      <td>1.604100e+09</td>\n",
       "    </tr>\n",
       "    <tr>\n",
       "      <th>50%</th>\n",
       "      <td>-21.200000</td>\n",
       "      <td>8.780000</td>\n",
       "      <td>68.000000</td>\n",
       "      <td>77.000000</td>\n",
       "      <td>7.780000</td>\n",
       "      <td>75.000000</td>\n",
       "      <td>1.604100e+09</td>\n",
       "    </tr>\n",
       "    <tr>\n",
       "      <th>75%</th>\n",
       "      <td>7.930000</td>\n",
       "      <td>57.700000</td>\n",
       "      <td>76.210000</td>\n",
       "      <td>91.000000</td>\n",
       "      <td>12.240000</td>\n",
       "      <td>90.000000</td>\n",
       "      <td>1.604100e+09</td>\n",
       "    </tr>\n",
       "    <tr>\n",
       "      <th>max</th>\n",
       "      <td>63.830000</td>\n",
       "      <td>173.170000</td>\n",
       "      <td>84.200000</td>\n",
       "      <td>100.000000</td>\n",
       "      <td>29.970000</td>\n",
       "      <td>100.000000</td>\n",
       "      <td>1.604100e+09</td>\n",
       "    </tr>\n",
       "  </tbody>\n",
       "</table>\n",
       "</div>"
      ],
      "text/plain": [
       "             Lat         Lng   Max Temp    Humidity  Wind Speed  Cloudiness  \\\n",
       "count  53.000000   53.000000  53.000000   53.000000   53.000000   53.000000   \n",
       "mean  -10.417925   -5.691132  63.190377   75.792453    9.946415   57.037736   \n",
       "std    31.556214  104.056255  14.471482   16.670285    6.281903   40.112324   \n",
       "min   -54.800000 -175.200000  26.600000   24.000000    1.010000    0.000000   \n",
       "25%   -33.590000  -73.970000  53.910000   65.000000    5.950000    1.000000   \n",
       "50%   -21.200000    8.780000  68.000000   77.000000    7.780000   75.000000   \n",
       "75%     7.930000   57.700000  76.210000   91.000000   12.240000   90.000000   \n",
       "max    63.830000  173.170000  84.200000  100.000000   29.970000  100.000000   \n",
       "\n",
       "               Date  \n",
       "count  5.300000e+01  \n",
       "mean   1.604100e+09  \n",
       "std    6.114747e+01  \n",
       "min    1.604100e+09  \n",
       "25%    1.604100e+09  \n",
       "50%    1.604100e+09  \n",
       "75%    1.604100e+09  \n",
       "max    1.604100e+09  "
      ]
     },
     "execution_count": 10,
     "metadata": {},
     "output_type": "execute_result"
    }
   ],
   "source": [
    "#create summary statisitcs data frame to identify if there are any humidity >100.\n",
    "\n",
    "city_data.describe()\n"
   ]
  },
  {
   "cell_type": "code",
   "execution_count": 11,
   "metadata": {},
   "outputs": [
    {
     "data": {
      "text/html": [
       "<div>\n",
       "<style scoped>\n",
       "    .dataframe tbody tr th:only-of-type {\n",
       "        vertical-align: middle;\n",
       "    }\n",
       "\n",
       "    .dataframe tbody tr th {\n",
       "        vertical-align: top;\n",
       "    }\n",
       "\n",
       "    .dataframe thead th {\n",
       "        text-align: right;\n",
       "    }\n",
       "</style>\n",
       "<table border=\"1\" class=\"dataframe\">\n",
       "  <thead>\n",
       "    <tr style=\"text-align: right;\">\n",
       "      <th></th>\n",
       "      <th>Lat</th>\n",
       "      <th>Lng</th>\n",
       "      <th>Max Temp</th>\n",
       "      <th>Humidity</th>\n",
       "      <th>Wind Speed</th>\n",
       "      <th>Cloudiness</th>\n",
       "      <th>Date</th>\n",
       "    </tr>\n",
       "  </thead>\n",
       "  <tbody>\n",
       "    <tr>\n",
       "      <th>count</th>\n",
       "      <td>53.000000</td>\n",
       "      <td>53.000000</td>\n",
       "      <td>53.000000</td>\n",
       "      <td>53.000000</td>\n",
       "      <td>53.000000</td>\n",
       "      <td>53.000000</td>\n",
       "      <td>5.300000e+01</td>\n",
       "    </tr>\n",
       "    <tr>\n",
       "      <th>mean</th>\n",
       "      <td>-10.417925</td>\n",
       "      <td>-5.691132</td>\n",
       "      <td>63.190377</td>\n",
       "      <td>75.792453</td>\n",
       "      <td>9.946415</td>\n",
       "      <td>57.037736</td>\n",
       "      <td>1.604100e+09</td>\n",
       "    </tr>\n",
       "    <tr>\n",
       "      <th>std</th>\n",
       "      <td>31.556214</td>\n",
       "      <td>104.056255</td>\n",
       "      <td>14.471482</td>\n",
       "      <td>16.670285</td>\n",
       "      <td>6.281903</td>\n",
       "      <td>40.112324</td>\n",
       "      <td>6.114747e+01</td>\n",
       "    </tr>\n",
       "    <tr>\n",
       "      <th>min</th>\n",
       "      <td>-54.800000</td>\n",
       "      <td>-175.200000</td>\n",
       "      <td>26.600000</td>\n",
       "      <td>24.000000</td>\n",
       "      <td>1.010000</td>\n",
       "      <td>0.000000</td>\n",
       "      <td>1.604100e+09</td>\n",
       "    </tr>\n",
       "    <tr>\n",
       "      <th>25%</th>\n",
       "      <td>-33.590000</td>\n",
       "      <td>-73.970000</td>\n",
       "      <td>53.910000</td>\n",
       "      <td>65.000000</td>\n",
       "      <td>5.950000</td>\n",
       "      <td>1.000000</td>\n",
       "      <td>1.604100e+09</td>\n",
       "    </tr>\n",
       "    <tr>\n",
       "      <th>50%</th>\n",
       "      <td>-21.200000</td>\n",
       "      <td>8.780000</td>\n",
       "      <td>68.000000</td>\n",
       "      <td>77.000000</td>\n",
       "      <td>7.780000</td>\n",
       "      <td>75.000000</td>\n",
       "      <td>1.604100e+09</td>\n",
       "    </tr>\n",
       "    <tr>\n",
       "      <th>75%</th>\n",
       "      <td>7.930000</td>\n",
       "      <td>57.700000</td>\n",
       "      <td>76.210000</td>\n",
       "      <td>91.000000</td>\n",
       "      <td>12.240000</td>\n",
       "      <td>90.000000</td>\n",
       "      <td>1.604100e+09</td>\n",
       "    </tr>\n",
       "    <tr>\n",
       "      <th>max</th>\n",
       "      <td>63.830000</td>\n",
       "      <td>173.170000</td>\n",
       "      <td>84.200000</td>\n",
       "      <td>100.000000</td>\n",
       "      <td>29.970000</td>\n",
       "      <td>100.000000</td>\n",
       "      <td>1.604100e+09</td>\n",
       "    </tr>\n",
       "  </tbody>\n",
       "</table>\n",
       "</div>"
      ],
      "text/plain": [
       "             Lat         Lng   Max Temp    Humidity  Wind Speed  Cloudiness  \\\n",
       "count  53.000000   53.000000  53.000000   53.000000   53.000000   53.000000   \n",
       "mean  -10.417925   -5.691132  63.190377   75.792453    9.946415   57.037736   \n",
       "std    31.556214  104.056255  14.471482   16.670285    6.281903   40.112324   \n",
       "min   -54.800000 -175.200000  26.600000   24.000000    1.010000    0.000000   \n",
       "25%   -33.590000  -73.970000  53.910000   65.000000    5.950000    1.000000   \n",
       "50%   -21.200000    8.780000  68.000000   77.000000    7.780000   75.000000   \n",
       "75%     7.930000   57.700000  76.210000   91.000000   12.240000   90.000000   \n",
       "max    63.830000  173.170000  84.200000  100.000000   29.970000  100.000000   \n",
       "\n",
       "               Date  \n",
       "count  5.300000e+01  \n",
       "mean   1.604100e+09  \n",
       "std    6.114747e+01  \n",
       "min    1.604100e+09  \n",
       "25%    1.604100e+09  \n",
       "50%    1.604100e+09  \n",
       "75%    1.604100e+09  \n",
       "max    1.604100e+09  "
      ]
     },
     "execution_count": 11,
     "metadata": {},
     "output_type": "execute_result"
    }
   ],
   "source": [
    "# Drop cities taht are missing values.  There are no cities with humidity over 100\n",
    "\n",
    "clean_city_data = city_data.dropna()\n",
    "clean_city_data.describe()\n"
   ]
  },
  {
   "cell_type": "code",
   "execution_count": 12,
   "metadata": {
    "scrolled": true
   },
   "outputs": [
    {
     "data": {
      "text/html": [
       "<div>\n",
       "<style scoped>\n",
       "    .dataframe tbody tr th:only-of-type {\n",
       "        vertical-align: middle;\n",
       "    }\n",
       "\n",
       "    .dataframe tbody tr th {\n",
       "        vertical-align: top;\n",
       "    }\n",
       "\n",
       "    .dataframe thead th {\n",
       "        text-align: right;\n",
       "    }\n",
       "</style>\n",
       "<table border=\"1\" class=\"dataframe\">\n",
       "  <thead>\n",
       "    <tr style=\"text-align: right;\">\n",
       "      <th></th>\n",
       "      <th>City</th>\n",
       "      <th>Lat</th>\n",
       "      <th>Lng</th>\n",
       "      <th>Max Temp</th>\n",
       "      <th>Humidity</th>\n",
       "      <th>Wind Speed</th>\n",
       "      <th>Cloudiness</th>\n",
       "      <th>Country</th>\n",
       "      <th>Date</th>\n",
       "    </tr>\n",
       "  </thead>\n",
       "  <tbody>\n",
       "    <tr>\n",
       "      <th>0</th>\n",
       "      <td>Hermanus</td>\n",
       "      <td>38.04</td>\n",
       "      <td>14.02</td>\n",
       "      <td>61.00</td>\n",
       "      <td>79.0</td>\n",
       "      <td>4.00</td>\n",
       "      <td>70.0</td>\n",
       "      <td>ZA</td>\n",
       "      <td>1.604100e+09</td>\n",
       "    </tr>\n",
       "    <tr>\n",
       "      <th>1</th>\n",
       "      <td>Victoria</td>\n",
       "      <td>26.92</td>\n",
       "      <td>68.52</td>\n",
       "      <td>69.15</td>\n",
       "      <td>24.0</td>\n",
       "      <td>2.30</td>\n",
       "      <td>0.0</td>\n",
       "      <td>SC</td>\n",
       "      <td>1.604100e+09</td>\n",
       "    </tr>\n",
       "    <tr>\n",
       "      <th>2</th>\n",
       "      <td>Mitsamiouli</td>\n",
       "      <td>54.04</td>\n",
       "      <td>35.77</td>\n",
       "      <td>42.80</td>\n",
       "      <td>93.0</td>\n",
       "      <td>2.15</td>\n",
       "      <td>90.0</td>\n",
       "      <td>KM</td>\n",
       "      <td>1.604100e+09</td>\n",
       "    </tr>\n",
       "    <tr>\n",
       "      <th>3</th>\n",
       "      <td>Albany</td>\n",
       "      <td>3.07</td>\n",
       "      <td>172.79</td>\n",
       "      <td>82.56</td>\n",
       "      <td>77.0</td>\n",
       "      <td>21.45</td>\n",
       "      <td>70.0</td>\n",
       "      <td>AU</td>\n",
       "      <td>1.604100e+09</td>\n",
       "    </tr>\n",
       "    <tr>\n",
       "      <th>4</th>\n",
       "      <td>Port Alfred</td>\n",
       "      <td>35.30</td>\n",
       "      <td>37.18</td>\n",
       "      <td>62.92</td>\n",
       "      <td>68.0</td>\n",
       "      <td>2.64</td>\n",
       "      <td>95.0</td>\n",
       "      <td>ZA</td>\n",
       "      <td>1.604100e+09</td>\n",
       "    </tr>\n",
       "  </tbody>\n",
       "</table>\n",
       "</div>"
      ],
      "text/plain": [
       "          City    Lat     Lng  Max Temp  Humidity  Wind Speed  Cloudiness  \\\n",
       "0     Hermanus  38.04   14.02     61.00      79.0        4.00        70.0   \n",
       "1     Victoria  26.92   68.52     69.15      24.0        2.30         0.0   \n",
       "2  Mitsamiouli  54.04   35.77     42.80      93.0        2.15        90.0   \n",
       "3       Albany   3.07  172.79     82.56      77.0       21.45        70.0   \n",
       "4  Port Alfred  35.30   37.18     62.92      68.0        2.64        95.0   \n",
       "\n",
       "  Country          Date  \n",
       "0      ZA  1.604100e+09  \n",
       "1      SC  1.604100e+09  \n",
       "2      KM  1.604100e+09  \n",
       "3      AU  1.604100e+09  \n",
       "4      ZA  1.604100e+09  "
      ]
     },
     "execution_count": 12,
     "metadata": {},
     "output_type": "execute_result"
    }
   ],
   "source": [
    "# Note: need to ddetermine how to format numbers properly in DF\n",
    "\n",
    "clean_city_data.head()"
   ]
  },
  {
   "cell_type": "markdown",
   "metadata": {},
   "source": [
    "## Latitude vs. Temperature Plot"
   ]
  },
  {
   "cell_type": "code",
   "execution_count": 30,
   "metadata": {},
   "outputs": [
    {
     "data": {
      "image/png": "[encoded data removed]",
      "text/plain": [
       "<Figure size 432x288 with 1 Axes>"
      ]
     },
     "metadata": {
      "needs_background": "light"
     },
     "output_type": "display_data"
    }
   ],
   "source": [
    "# Create a Scatter Plot for temperature vs latitude\n",
    "x_values = clean_city_data['Lat']\n",
    "y_values = clean_city_data['Max Temp']\n",
    "fig_1 = plt.scatter(x_values,y_values)\n",
    "plt.title('City Latitude vs Max Temperature (10/29/2020)')\n",
    "plt.xlabel('Latitude')\n",
    "plt.ylabel('Temperature (F)')\n",
    "plt.grid()\n",
    "plt.show()\n",
    "\n",
    "# Save a png - Not opening correctly as a PNG\n",
    "fig_1.figure.savefig('.\\output\\Lat-Temp.png')\n"
   ]
  },
  {
   "cell_type": "markdown",
   "metadata": {},
   "source": [
    "## Latitude vs. Humidity Plot"
   ]
  },
  {
   "cell_type": "code",
   "execution_count": 31,
   "metadata": {},
   "outputs": [
    {
     "data": {
      "image/png": "[encoded data removed]",
      "text/plain": [
       "<Figure size 432x288 with 1 Axes>"
      ]
     },
     "metadata": {
      "needs_background": "light"
     },
     "output_type": "display_data"
    }
   ],
   "source": [
    "# Create a Scatter Plot for Humidity vs latitude\n",
    "x_values = clean_city_data['Lat']\n",
    "y_values = clean_city_data['Humidity']\n",
    "fig_2 = plt.scatter(x_values,y_values)\n",
    "plt.title('City Latitude vs Humidity (10/29/2020)')\n",
    "plt.xlabel('Latitude')\n",
    "plt.ylabel('Humidity (%)')\n",
    "plt.grid()\n",
    "plt.show()\n",
    "\n",
    "# Save a png - Not opening correctly as a PNG\n",
    "fig_2.figure.savefig('.\\output\\Humid-Lat.png')\n"
   ]
  },
  {
   "cell_type": "markdown",
   "metadata": {},
   "source": [
    "## Latitude vs. Cloudiness Plot"
   ]
  },
  {
   "cell_type": "code",
   "execution_count": 15,
   "metadata": {},
   "outputs": [
    {
     "data": {
      "image/png": "[encoded data removed]",
      "text/plain": [
       "<Figure size 432x288 with 1 Axes>"
      ]
     },
     "metadata": {
      "needs_background": "light"
     },
     "output_type": "display_data"
    },
    {
     "data": {
      "text/plain": [
       "<Figure size 432x288 with 0 Axes>"
      ]
     },
     "metadata": {},
     "output_type": "display_data"
    }
   ],
   "source": [
    "#  Did not pull the right data from the JSON.  Create a Scatter Plot for Cloudiness vs latitude\n",
    "x_values = clean_city_data['Lat']\n",
    "y_values = clean_city_data['Cloudiness']\n",
    "fig_3 = plt.scatter(x_values,y_values)\n",
    "plt.title('City Latitude vs Cloudiness (10/29/2020)')\n",
    "plt.xlabel('Latitude')\n",
    "plt.ylabel('Cloundiness (%)')\n",
    "plt.grid()\n",
    "plt.show()\n",
    "\n",
    "# Save a png - Not opening correctly as a PNG\n",
    "fig_3.figure.savefig('.\\output\\Cloud-Lat.png')"
   ]
  },
  {
   "cell_type": "markdown",
   "metadata": {},
   "source": [
    "## Latitude vs. Wind Speed Plot"
   ]
  },
  {
   "cell_type": "code",
   "execution_count": 16,
   "metadata": {},
   "outputs": [
    {
     "data": {
      "image/png": "[encoded data removed]",
      "text/plain": [
       "<Figure size 432x288 with 1 Axes>"
      ]
     },
     "metadata": {
      "needs_background": "light"
     },
     "output_type": "display_data"
    },
    {
     "data": {
      "text/plain": [
       "<Figure size 432x288 with 0 Axes>"
      ]
     },
     "metadata": {},
     "output_type": "display_data"
    }
   ],
   "source": [
    "# Create a Scatter Plot for wind speed vs latitude\n",
    "x_values = clean_city_data['Lat']\n",
    "y_values = clean_city_data['Wind Speed']\n",
    "fig_4 = plt.scatter(x_values,y_values)\n",
    "plt.title('City Latitude vs Wind Speed (10/29/2020)')\n",
    "plt.xlabel('Latitude')\n",
    "plt.ylabel('Wind Speed (mph)')\n",
    "plt.grid()\n",
    "plt.show()\n",
    "\n",
    "# Save a png - Not opening correctly as a PNG\n",
    "fig_4.figure.savefig('.\\output\\Windspeed-Lat.png')"
   ]
  },
  {
   "cell_type": "markdown",
   "metadata": {},
   "source": [
    "## Linear Regression"
   ]
  },
  {
   "cell_type": "markdown",
   "metadata": {},
   "source": [
    "####  Northern Hemisphere - Max Temp vs. Latitude Linear Regression"
   ]
  },
  {
   "cell_type": "code",
   "execution_count": 17,
   "metadata": {},
   "outputs": [
    {
     "name": "stdout",
     "output_type": "stream",
     "text": [
      "The r-squared value is: 0.81\n"
     ]
    },
    {
     "data": {
      "image/png": "[encoded data removed]",
      "text/plain": [
       "<Figure size 432x288 with 1 Axes>"
      ]
     },
     "metadata": {
      "needs_background": "light"
     },
     "output_type": "display_data"
    }
   ],
   "source": [
    "n_hemi_cities = clean_city_data[clean_city_data['Lat']>0]\n",
    "s_hemi_cities = clean_city_data[clean_city_data['Lat']<0]\n",
    "#n_hemisphere_cities.head()\n",
    "\n",
    "\n",
    "# Create a Scatter Plot for temperature vs latitude\n",
    "x_values = n_hemi_cities['Lat']\n",
    "y_values = n_hemi_cities['Max Temp']\n",
    "\n",
    "# Perform a linear regression on temperature vs. latitude\n",
    "(slope, intercept, rvalue, pvalue, stderr) = st.linregress(x_values, y_values)\n",
    "\n",
    "# Get regression values\n",
    "regress_values = x_values * slope + intercept\n",
    "#print(regress_values)\n",
    "\n",
    "#create plot regression line plot\n",
    "plt.scatter(x_values,y_values)\n",
    "plt.plot(x_values,regress_values,\"r-\")\n",
    "\n",
    "plt.title('City Latitude vs Max Temperature (10/29/2020)')\n",
    "plt.xlabel('Latitude')\n",
    "plt.ylabel('Temperature (F)')\n",
    "plt.grid()\n",
    "\n",
    "\n",
    "#create equation\n",
    "line_eq = \"y = \" + str(round(slope,2)) + \"x +\" + str(round(intercept,2))\n",
    "\n",
    "plt.annotate(line_eq,(10, 20),fontsize=12,color=\"red\")\n",
    "\n",
    "r_sq = round(rvalue**2, 2)\n",
    "print(f\"The r-squared value is: {r_sq}\")\n",
    "plt.show()"
   ]
  },
  {
   "cell_type": "markdown",
   "metadata": {},
   "source": [
    "####  Southern Hemisphere - Max Temp vs. Latitude Linear Regression"
   ]
  },
  {
   "cell_type": "code",
   "execution_count": 18,
   "metadata": {},
   "outputs": [
    {
     "name": "stdout",
     "output_type": "stream",
     "text": [
      "The r-squared value is: 0.57\n"
     ]
    },
    {
     "data": {
      "image/png": "[encoded data removed]",
      "text/plain": [
       "<Figure size 432x288 with 1 Axes>"
      ]
     },
     "metadata": {
      "needs_background": "light"
     },
     "output_type": "display_data"
    }
   ],
   "source": [
    "\n",
    "# Create a Scatter Plot for temperature vs latitude\n",
    "x_values = s_hemi_cities['Lat']\n",
    "y_values = s_hemi_cities['Max Temp']\n",
    "\n",
    "# Perform a linear regression on temperature vs. latitude\n",
    "(slope, intercept, rvalue, pvalue, stderr) = st.linregress(x_values, y_values)\n",
    "\n",
    "# Get regression values\n",
    "regress_values = x_values * slope + intercept\n",
    "#print(regress_values)\n",
    "\n",
    "#create plot regression line plot\n",
    "plt.scatter(x_values,y_values)\n",
    "plt.plot(x_values,regress_values,\"r-\")\n",
    "\n",
    "plt.title('City Latitude vs Max Temperature (10/29/2020)')\n",
    "plt.xlabel('Latitude')\n",
    "plt.ylabel('Temperature (F)')\n",
    "plt.grid()\n",
    "\n",
    "\n",
    "#create equation\n",
    "line_eq = \"y = \" + str(round(slope,2)) + \"x +\" + str(round(intercept,2))\n",
    "\n",
    "plt.annotate(line_eq,(-50, 80),fontsize=12,color=\"red\")\n",
    "\n",
    "r_sq = round(rvalue**2, 2)\n",
    "print(f\"The r-squared value is: {r_sq}\")\n",
    "plt.show()\n"
   ]
  },
  {
   "cell_type": "markdown",
   "metadata": {},
   "source": [
    "####  Northern Hemisphere - Humidity (%) vs. Latitude Linear Regression"
   ]
  },
  {
   "cell_type": "code",
   "execution_count": 19,
   "metadata": {},
   "outputs": [
    {
     "name": "stdout",
     "output_type": "stream",
     "text": [
      "The r-squared value is: 0.06\n"
     ]
    },
    {
     "data": {
      "image/png": "[encoded data removed]",
      "text/plain": [
       "<Figure size 432x288 with 1 Axes>"
      ]
     },
     "metadata": {
      "needs_background": "light"
     },
     "output_type": "display_data"
    }
   ],
   "source": [
    "\n",
    "# Create a Scatter Plot \n",
    "x_values = n_hemi_cities['Lat']\n",
    "y_values = n_hemi_cities['Humidity']\n",
    "\n",
    "# Perform a linear regression o\n",
    "(slope, intercept, rvalue, pvalue, stderr) = st.linregress(x_values, y_values)\n",
    "\n",
    "# Get regression values\n",
    "regress_values = x_values * slope + intercept\n",
    "#print(regress_values)\n",
    "\n",
    "#create plot regression line plot\n",
    "plt.scatter(x_values,y_values)\n",
    "plt.plot(x_values,regress_values,\"r-\")\n",
    "\n",
    "plt.title('City Latitude vs Humidity (10/29/2020)')\n",
    "plt.xlabel('Latitude')\n",
    "plt.ylabel('Humidity (%)')\n",
    "plt.grid()\n",
    "\n",
    "\n",
    "#create equation\n",
    "line_eq = \"y = \" + str(round(slope,2)) + \"x +\" + str(round(intercept,2))\n",
    "\n",
    "plt.annotate(line_eq,(10, 20),fontsize=12,color=\"red\")\n",
    "\n",
    "r_sq = round(rvalue**2, 2)\n",
    "print(f\"The r-squared value is: {r_sq}\")\n",
    "plt.show()\n"
   ]
  },
  {
   "cell_type": "markdown",
   "metadata": {},
   "source": [
    "####  Southern Hemisphere - Humidity (%) vs. Latitude Linear Regression"
   ]
  },
  {
   "cell_type": "code",
   "execution_count": 20,
   "metadata": {},
   "outputs": [
    {
     "name": "stdout",
     "output_type": "stream",
     "text": [
      "The r-squared value is: 0.01\n"
     ]
    },
    {
     "data": {
      "image/png": "[encoded data removed]",
      "text/plain": [
       "<Figure size 432x288 with 1 Axes>"
      ]
     },
     "metadata": {
      "needs_background": "light"
     },
     "output_type": "display_data"
    }
   ],
   "source": [
    "\n",
    "# Create a Scatter Plot \n",
    "x_values = s_hemi_cities['Lat']\n",
    "y_values = s_hemi_cities['Humidity']\n",
    "\n",
    "# Perform a linear regression o\n",
    "(slope, intercept, rvalue, pvalue, stderr) = st.linregress(x_values, y_values)\n",
    "\n",
    "# Get regression values\n",
    "regress_values = x_values * slope + intercept\n",
    "#print(regress_values)\n",
    "\n",
    "#create plot regression line plot\n",
    "plt.scatter(x_values,y_values)\n",
    "plt.plot(x_values,regress_values,\"r-\")\n",
    "\n",
    "plt.title('City Latitude vs Humidity (10/29/2020)')\n",
    "plt.xlabel('Latitude')\n",
    "plt.ylabel('Humidity (%)')\n",
    "plt.grid()\n",
    "\n",
    "\n",
    "#create equation\n",
    "line_eq = \"y = \" + str(round(slope,2)) + \"x +\" + str(round(intercept,2))\n",
    "\n",
    "plt.annotate(line_eq,(-50, 60),fontsize=12,color=\"red\")\n",
    "\n",
    "r_sq = round(rvalue**2, 2)\n",
    "print(f\"The r-squared value is: {r_sq}\")\n",
    "plt.show()\n"
   ]
  },
  {
   "cell_type": "markdown",
   "metadata": {},
   "source": [
    "####  Northern Hemisphere - Cloudiness (%) vs. Latitude Linear Regression"
   ]
  },
  {
   "cell_type": "code",
   "execution_count": 21,
   "metadata": {},
   "outputs": [
    {
     "name": "stdout",
     "output_type": "stream",
     "text": [
      "The r-squared value is: 0.03\n"
     ]
    },
    {
     "data": {
      "image/png": "[encoded data removed]",
      "text/plain": [
       "<Figure size 432x288 with 1 Axes>"
      ]
     },
     "metadata": {
      "needs_background": "light"
     },
     "output_type": "display_data"
    }
   ],
   "source": [
    "\n",
    "# Create a Scatter Plot \n",
    "x_values = n_hemi_cities['Lat']\n",
    "y_values = n_hemi_cities['Cloudiness']\n",
    "\n",
    "# Perform a linear regression o\n",
    "(slope, intercept, rvalue, pvalue, stderr) = st.linregress(x_values, y_values)\n",
    "\n",
    "# Get regression values\n",
    "regress_values = x_values * slope + intercept\n",
    "#print(regress_values)\n",
    "\n",
    "#create plot regression line plot\n",
    "plt.scatter(x_values,y_values)\n",
    "plt.plot(x_values,regress_values,\"r-\")\n",
    "\n",
    "plt.title('Northen Hemisphere City Latitude vs Cloudiness (10/29/2020)')\n",
    "plt.xlabel('Latitude')\n",
    "plt.ylabel('Cloudiness (%)')\n",
    "plt.grid()\n",
    "\n",
    "\n",
    "#create equation\n",
    "line_eq = \"y = \" + str(round(slope,2)) + \"x +\" + str(round(intercept,2))\n",
    "\n",
    "plt.annotate(line_eq,(10, 20),fontsize=12,color=\"red\")\n",
    "\n",
    "r_sq = round(rvalue**2, 2)\n",
    "print(f\"The r-squared value is: {r_sq}\")\n",
    "plt.show()\n"
   ]
  },
  {
   "cell_type": "markdown",
   "metadata": {},
   "source": [
    "####  Southern Hemisphere - Cloudiness (%) vs. Latitude Linear Regression"
   ]
  },
  {
   "cell_type": "code",
   "execution_count": 22,
   "metadata": {},
   "outputs": [
    {
     "name": "stdout",
     "output_type": "stream",
     "text": [
      "The r-squared value is: 0.0\n"
     ]
    },
    {
     "data": {
      "image/png": "[encoded data removed]",
      "text/plain": [
       "<Figure size 432x288 with 1 Axes>"
      ]
     },
     "metadata": {
      "needs_background": "light"
     },
     "output_type": "display_data"
    }
   ],
   "source": [
    "\n",
    "# Create a Scatter Plot \n",
    "x_values = s_hemi_cities['Lat']\n",
    "y_values = s_hemi_cities['Cloudiness']\n",
    "\n",
    "# Perform a linear regression o\n",
    "(slope, intercept, rvalue, pvalue, stderr) = st.linregress(x_values, y_values)\n",
    "\n",
    "# Get regression values\n",
    "regress_values = x_values * slope + intercept\n",
    "#print(regress_values)\n",
    "\n",
    "#create plot regression line plot\n",
    "plt.scatter(x_values,y_values)\n",
    "plt.plot(x_values,regress_values,\"r-\")\n",
    "\n",
    "plt.title('Southern Hemisphere City Latitude vs Cloudiness (10/29/2020)')\n",
    "plt.xlabel('Latitude')\n",
    "plt.ylabel('Cloudiness (%)')\n",
    "plt.grid()\n",
    "\n",
    "\n",
    "#create equation\n",
    "line_eq = \"y = \" + str(round(slope,2)) + \"x +\" + str(round(intercept,2))\n",
    "\n",
    "plt.annotate(line_eq,(10, 20),fontsize=12,color=\"red\")\n",
    "\n",
    "r_sq = round(rvalue**2, 2)\n",
    "print(f\"The r-squared value is: {r_sq}\")\n",
    "plt.show()\n"
   ]
  },
  {
   "cell_type": "markdown",
   "metadata": {},
   "source": [
    "####  Northern Hemisphere - Wind Speed (mph) vs. Latitude Linear Regression"
   ]
  },
  {
   "cell_type": "code",
   "execution_count": 23,
   "metadata": {},
   "outputs": [
    {
     "name": "stdout",
     "output_type": "stream",
     "text": [
      "The r-squared value is: 0.05\n"
     ]
    },
    {
     "data": {
      "image/png": "[encoded data removed]",
      "text/plain": [
       "<Figure size 432x288 with 1 Axes>"
      ]
     },
     "metadata": {
      "needs_background": "light"
     },
     "output_type": "display_data"
    }
   ],
   "source": [
    "\n",
    "# Create a Scatter Plot \n",
    "x_values = n_hemi_cities['Lat']\n",
    "y_values = n_hemi_cities['Wind Speed']\n",
    "\n",
    "# Perform a linear regression o\n",
    "(slope, intercept, rvalue, pvalue, stderr) = st.linregress(x_values, y_values)\n",
    "\n",
    "# Get regression values\n",
    "regress_values = x_values * slope + intercept\n",
    "#print(regress_values)\n",
    "\n",
    "#create plot regression line plot\n",
    "plt.scatter(x_values,y_values)\n",
    "plt.plot(x_values,regress_values,\"r-\")\n",
    "\n",
    "plt.title('Northen Hemisphere City Latitude vs Wind Speed (10/29/2020)')\n",
    "plt.xlabel('Latitude')\n",
    "plt.ylabel('Wind Speed (mph)')\n",
    "plt.grid()\n",
    "\n",
    "\n",
    "#create equation\n",
    "line_eq = \"y = \" + str(round(slope,2)) + \"x +\" + str(round(intercept,2))\n",
    "\n",
    "plt.annotate(line_eq,(30, 14),fontsize=12,color=\"red\")\n",
    "\n",
    "r_sq = round(rvalue**2, 2)\n",
    "print(f\"The r-squared value is: {r_sq}\")\n",
    "plt.show()\n"
   ]
  },
  {
   "cell_type": "markdown",
   "metadata": {},
   "source": [
    "####  Southern Hemisphere - Wind Speed (mph) vs. Latitude Linear Regression"
   ]
  },
  {
   "cell_type": "code",
   "execution_count": 24,
   "metadata": {},
   "outputs": [
    {
     "name": "stdout",
     "output_type": "stream",
     "text": [
      "The r-squared value is: 0.26\n"
     ]
    },
    {
     "data": {
      "image/png": "[encoded data removed]",
      "text/plain": [
       "<Figure size 432x288 with 1 Axes>"
      ]
     },
     "metadata": {
      "needs_background": "light"
     },
     "output_type": "display_data"
    }
   ],
   "source": [
    "# Create a Scatter Plot \n",
    "x_values = s_hemi_cities['Lat']\n",
    "y_values = s_hemi_cities['Wind Speed']\n",
    "\n",
    "# Perform a linear regression o\n",
    "(slope, intercept, rvalue, pvalue, stderr) = st.linregress(x_values, y_values)\n",
    "\n",
    "# Get regression values\n",
    "regress_values = x_values * slope + intercept\n",
    "#print(regress_values)\n",
    "\n",
    "#create plot regression line plot\n",
    "plt.scatter(x_values,y_values)\n",
    "plt.plot(x_values,regress_values,\"r-\")\n",
    "\n",
    "plt.title('Southern Hemisphere City Latitude vs Wind Speed (10/29/2020)')\n",
    "plt.xlabel('Latitude')\n",
    "plt.ylabel('Wind Speed (mph)')\n",
    "plt.grid()\n",
    "\n",
    "\n",
    "#create equation\n",
    "line_eq = \"y = \" + str(round(slope,2)) + \"x +\" + str(round(intercept,2))\n",
    "\n",
    "plt.annotate(line_eq,(30, 14),fontsize=12,color=\"red\")\n",
    "\n",
    "r_sq = round(rvalue**2, 2)\n",
    "print(f\"The r-squared value is: {r_sq}\")\n",
    "plt.show()\n"
   ]
  },
  {
   "cell_type": "code",
   "execution_count": null,
   "metadata": {},
   "outputs": [],
   "source": []
  }
 ],
 "metadata": {
  "anaconda-cloud": {},
  "kernel_info": {
   "name": "python3"
  },
  "kernelspec": {
   "display_name": "Python [conda env:PythonData] *",
   "language": "python",
   "name": "conda-env-PythonData-py"
  },
  "language_info": {
   "codemirror_mode": {
    "name": "ipython",
    "version": 3
   },
   "file_extension": ".py",
   "mimetype": "text/x-python",
   "name": "python",
   "nbconvert_exporter": "python",
   "pygments_lexer": "ipython3",
   "version": "3.6.12"
  },
  "latex_envs": {
   "LaTeX_envs_menu_present": true,
   "autoclose": false,
   "autocomplete": true,
   "bibliofile": "biblio.bib",
   "cite_by": "apalike",
   "current_citInitial": 1,
   "eqLabelWithNumbers": true,
   "eqNumInitial": 1,
   "hotkeys": {
    "equation": "Ctrl-E",
    "itemize": "Ctrl-I"
   },
   "labels_anchors": false,
   "latex_user_defs": false,
   "report_style_numbering": false,
   "user_envs_cfg": false
  },
  "nteract": {
   "version": "0.12.3"
  }
 },
 "nbformat": 4,
 "nbformat_minor": 2
}
