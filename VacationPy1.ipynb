{
 "cells": [
  {
   "cell_type": "markdown",
   "metadata": {},
   "source": [
    "# VacationPy\n",
    "----\n",
    "\n",
    "#### Note\n",
    "* Keep an eye on your API usage. Use https://developers.google.com/maps/reporting/gmp-reporting as reference for how to monitor your usage and billing.\n",
    "\n",
    "* Instructions have been included for each segment. You do not have to follow them exactly, but they are included to help you think through the steps."
   ]
  },
  {
   "cell_type": "code",
   "execution_count": 1,
   "metadata": {},
   "outputs": [],
   "source": [
    "# Dependencies and Setup\n",
    "import matplotlib.pyplot as plt\n",
    "import pandas as pd\n",
    "import numpy as np\n",
    "import requests\n",
    "import gmaps\n",
    "import os\n",
    "import json\n",
    "\n",
    "# Import API key\n",
    "from api_keys import g_key\n",
    "\n",
    "# Configure gmaps\n",
    "gmaps.configure(api_key = g_key)"
   ]
  },
  {
   "cell_type": "markdown",
   "metadata": {},
   "source": [
    "### Store Part I results into DataFrame\n",
    "* Load the csv exported in Part I to a DataFrame"
   ]
  },
  {
   "cell_type": "code",
   "execution_count": 20,
   "metadata": {},
   "outputs": [
    {
     "data": {
      "text/html": [
       "<div>\n",
       "<style scoped>\n",
       "    .dataframe tbody tr th:only-of-type {\n",
       "        vertical-align: middle;\n",
       "    }\n",
       "\n",
       "    .dataframe tbody tr th {\n",
       "        vertical-align: top;\n",
       "    }\n",
       "\n",
       "    .dataframe thead th {\n",
       "        text-align: right;\n",
       "    }\n",
       "</style>\n",
       "<table border=\"1\" class=\"dataframe\">\n",
       "  <thead>\n",
       "    <tr style=\"text-align: right;\">\n",
       "      <th></th>\n",
       "      <th>City</th>\n",
       "      <th>Lat</th>\n",
       "      <th>Lng</th>\n",
       "      <th>Max Temp</th>\n",
       "      <th>Humidity</th>\n",
       "      <th>Wind Speed</th>\n",
       "      <th>Cloudiness</th>\n",
       "      <th>Country</th>\n",
       "      <th>Date</th>\n",
       "    </tr>\n",
       "  </thead>\n",
       "  <tbody>\n",
       "    <tr>\n",
       "      <th>0</th>\n",
       "      <td>Port Hedland</td>\n",
       "      <td>59.70</td>\n",
       "      <td>30.79</td>\n",
       "      <td>45.00</td>\n",
       "      <td>93.0</td>\n",
       "      <td>4.47</td>\n",
       "      <td>90.0</td>\n",
       "      <td>AU</td>\n",
       "      <td>1.604115e+09</td>\n",
       "    </tr>\n",
       "    <tr>\n",
       "      <th>1</th>\n",
       "      <td>New Norfolk</td>\n",
       "      <td>33.28</td>\n",
       "      <td>134.15</td>\n",
       "      <td>68.00</td>\n",
       "      <td>30.0</td>\n",
       "      <td>3.36</td>\n",
       "      <td>20.0</td>\n",
       "      <td>AU</td>\n",
       "      <td>1.604115e+09</td>\n",
       "    </tr>\n",
       "    <tr>\n",
       "      <th>2</th>\n",
       "      <td>Mount Gambier</td>\n",
       "      <td>3.07</td>\n",
       "      <td>172.79</td>\n",
       "      <td>82.58</td>\n",
       "      <td>76.0</td>\n",
       "      <td>19.42</td>\n",
       "      <td>63.0</td>\n",
       "      <td>AU</td>\n",
       "      <td>1.604114e+09</td>\n",
       "    </tr>\n",
       "    <tr>\n",
       "      <th>3</th>\n",
       "      <td>Port Elizabeth</td>\n",
       "      <td>65.09</td>\n",
       "      <td>12.37</td>\n",
       "      <td>48.20</td>\n",
       "      <td>76.0</td>\n",
       "      <td>13.87</td>\n",
       "      <td>100.0</td>\n",
       "      <td>ZA</td>\n",
       "      <td>1.604115e+09</td>\n",
       "    </tr>\n",
       "    <tr>\n",
       "      <th>4</th>\n",
       "      <td>Yulara</td>\n",
       "      <td>21.23</td>\n",
       "      <td>81.63</td>\n",
       "      <td>69.80</td>\n",
       "      <td>64.0</td>\n",
       "      <td>3.36</td>\n",
       "      <td>0.0</td>\n",
       "      <td>AU</td>\n",
       "      <td>1.604115e+09</td>\n",
       "    </tr>\n",
       "  </tbody>\n",
       "</table>\n",
       "</div>"
      ],
      "text/plain": [
       "             City    Lat     Lng  Max Temp  Humidity  Wind Speed  Cloudiness  \\\n",
       "0    Port Hedland  59.70   30.79     45.00      93.0        4.47        90.0   \n",
       "1     New Norfolk  33.28  134.15     68.00      30.0        3.36        20.0   \n",
       "2   Mount Gambier   3.07  172.79     82.58      76.0       19.42        63.0   \n",
       "3  Port Elizabeth  65.09   12.37     48.20      76.0       13.87       100.0   \n",
       "4          Yulara  21.23   81.63     69.80      64.0        3.36         0.0   \n",
       "\n",
       "  Country          Date  \n",
       "0      AU  1.604115e+09  \n",
       "1      AU  1.604115e+09  \n",
       "2      AU  1.604114e+09  \n",
       "3      ZA  1.604115e+09  \n",
       "4      AU  1.604115e+09  "
      ]
     },
     "execution_count": 20,
     "metadata": {},
     "output_type": "execute_result"
    }
   ],
   "source": [
    "# #import csv as data frame\n",
    "# city_data = pd.read_csv(\".\\output\\city_data.csv\")\n",
    "# city_data.head()\n",
    "\n",
    "# #Drop cities that are missing values.  & shows stats\n",
    "# clean_city_data = city_data.dropna()\n",
    "# clean_city_data.describe()\n",
    "# clean_city_data.head()\n",
    "\n",
    "#import csv as data frame for test file\n",
    "city_data_test = pd.read_csv(\".\\output\\city_data_test.csv\")\n",
    "#city_data_test.head(10)\n",
    "\n",
    "#convert strings to floats in data frame\n",
    "\n",
    "# city_data_test[\"Humidity\"] = city_data_test[\"Humidity\"].astype(float)\n",
    "city_data_test[\"Humidity\"] = city_data_test[\"Humidity\"].astype(float)\n",
    "city_data_test[\"Wind Speed\"] = city_data_test[\"Wind Speed\"].astype(float)\n",
    "city_data_test[\"Max Temp\"] = city_data_test[\"Max Temp\"].astype(float)\n",
    "city_data_test[\"Cloudiness\"] = city_data_test[\"Cloudiness\"].astype(float)\n",
    "#city_data_test[\"Date\"] = pd.to_datetime(city_data_test[\"Date\"], format = '%Y%m%d')\n",
    "\n",
    "#Drop cities that are missing value & shows stats for test\n",
    "clean_city_data_test = city_data_test.dropna()\n",
    "\n",
    "#clean_city_data_test.describe()\n",
    "\n",
    "clean_city_data_test.head()\n"
   ]
  },
  {
   "cell_type": "markdown",
   "metadata": {},
   "source": [
    "### Humidity Heatmap\n",
    "* Configure gmaps.\n",
    "* Use the Lat and Lng as locations and Humidity as the weight.\n",
    "* Add Heatmap layer to map."
   ]
  },
  {
   "cell_type": "code",
   "execution_count": 21,
   "metadata": {},
   "outputs": [
    {
     "data": {
      "application/vnd.jupyter.widget-view+json": {
       "model_id": "4091fb6c1c9c4d4999d33513014c20d6",
       "version_major": 2,
       "version_minor": 0
      },
      "text/plain": [
       "Figure(layout=FigureLayout(height='420px'))"
      ]
     },
     "metadata": {},
     "output_type": "display_data"
    }
   ],
   "source": [
    "# Create 1st Heat Map of city humidity\n",
    "\n",
    "# Store latitude and longitude in locations\n",
    "locations = clean_city_data_test[[\"Lat\", \"Lng\"]]\n",
    "\n",
    "# Convert Humidity to float JIC\n",
    "rating = clean_city_data_test[\"Humidity\"].astype(float) \n",
    "\n",
    "# Plot Heatmap\n",
    "fig_13 = gmaps.figure()\n",
    "\n",
    "# Create heat layer\n",
    "heat_layer = gmaps.heatmap_layer(locations, weights=rating, \n",
    "                                 dissipating=False, max_intensity=100,\n",
    "                                 point_radius=5)\n",
    "\n",
    "# Add layer\n",
    "fig_13.add_layer(heat_layer)\n",
    "\n",
    "# Display figure\n",
    "fig_13"
   ]
  },
  {
   "cell_type": "code",
   "execution_count": null,
   "metadata": {},
   "outputs": [],
   "source": [
    "# # Humidity heat map Config gmaps\n",
    "\n",
    "# params = {\n",
    "#     \"key\": g_key,\n",
    "#     \"radius\": 50000\n",
    "# }\n",
    "\n",
    "# # Use the lat/lan for locations\n",
    "# for index, row in clean_city_data_test.iterrows():  \n",
    "#     lat = row['Lat']\n",
    "#     lng = row['Lng']\n",
    "#     humidity = row['Humidity']\n",
    "\n",
    "#     # change location each iteration while leaving original params in place\n",
    "#     params[\"location\"] = f\"{lat},{lng}\"\n",
    "   \n",
    "#     # Use the search term: \"International Airport\" and our lat/lng\n",
    "\n",
    "    \n",
    "#     # make request and print url\n",
    "#     name_address = requests.get(base_url, params=params)\n",
    "    \n",
    "# #    print the name_address url, avoid doing for public github repos in order to avoid exposing key\n",
    "# #     print(name_address.url)\n",
    "\n",
    "# #    # convert to json\n",
    "#     name_address = name_address.json()\n",
    "#     print(json.dumps(name_address, indent=4, sort_keys=True))    \n",
    "    \n",
    "    \n",
    "    "
   ]
  },
  {
   "cell_type": "code",
   "execution_count": 39,
   "metadata": {},
   "outputs": [
    {
     "name": "stderr",
     "output_type": "stream",
     "text": [
      "C:\\Users\\gjete\\Anaconda3\\envs\\PythonData\\lib\\site-packages\\ipykernel_launcher.py:7: SettingWithCopyWarning: \n",
      "A value is trying to be set on a copy of a slice from a DataFrame.\n",
      "Try using .loc[row_indexer,col_indexer] = value instead\n",
      "\n",
      "See the caveats in the documentation: https://pandas.pydata.org/pandas-docs/stable/user_guide/indexing.html#returning-a-view-versus-a-copy\n",
      "  import sys\n"
     ]
    }
   ],
   "source": [
    "# Weather criteria\n",
    "\n",
    "# Humidity <= 75.  Max Temp > 50.  Wind Speed <10.  Cloudiness <30\n",
    "\n",
    "#city_data_test[\"Humidity\"] = city_data_test[\"Humidity\"].astype(float)\n",
    "\n",
    "clean_city_data_test[\"Humidity\"] = clean_city_data_test[\"Humidity\"] < 70\n",
    "# # ideal_cities\n",
    "# ideal_cities = clean_city_data_test[\"Max Temp\"] > 50\n",
    "# # ideal_cities\n",
    "# ideal_cities = clean_city_data_test[\"Wind Speed\"] < 10\n",
    "# # ideal_cities\n",
    "# ideal_cities = clean_city_data_test[\"Cloudiness\"] < 30\n",
    "\n",
    "# ideal_cities"
   ]
  },
  {
   "cell_type": "markdown",
   "metadata": {},
   "source": [
    "### Create new DataFrame fitting weather criteria\n",
    "* Narrow down the cities to fit weather conditions.\n",
    "* Drop any rows will null values."
   ]
  },
  {
   "cell_type": "code",
   "execution_count": null,
   "metadata": {},
   "outputs": [],
   "source": []
  },
  {
   "cell_type": "markdown",
   "metadata": {},
   "source": [
    "### Hotel Map\n",
    "* Store into variable named `hotel_df`.\n",
    "* Add a \"Hotel Name\" column to the DataFrame.\n",
    "* Set parameters to search for hotels with 5000 meters.\n",
    "* Hit the Google Places API for each city's coordinates.\n",
    "* Store the first Hotel result into the DataFrame.\n",
    "* Plot markers on top of the heatmap."
   ]
  },
  {
   "cell_type": "code",
   "execution_count": null,
   "metadata": {},
   "outputs": [],
   "source": []
  },
  {
   "cell_type": "code",
   "execution_count": null,
   "metadata": {},
   "outputs": [],
   "source": []
  },
  {
   "cell_type": "code",
   "execution_count": null,
   "metadata": {},
   "outputs": [],
   "source": [
    "# NOTE: Do not change any of the code in this cell\n",
    "\n",
    "# Using the template add the hotel marks to the heatmap\n",
    "info_box_template = \"\"\"\n",
    "<dl>\n",
    "<dt>Name</dt><dd>{Hotel Name}</dd>\n",
    "<dt>City</dt><dd>{City}</dd>\n",
    "<dt>Country</dt><dd>{Country}</dd>\n",
    "</dl>\n",
    "\"\"\"\n",
    "# Store the DataFrame Row\n",
    "# NOTE: be sure to update with your DataFrame name\n",
    "hotel_info = [info_box_template.format(**row) for index, row in hotel_df.iterrows()]\n",
    "locations = hotel_df[[\"Lat\", \"Lng\"]]"
   ]
  },
  {
   "cell_type": "code",
   "execution_count": null,
   "metadata": {},
   "outputs": [],
   "source": [
    "# Add marker layer ontop of heat map\n",
    "\n",
    "\n",
    "# Display figure\n"
   ]
  },
  {
   "cell_type": "code",
   "execution_count": null,
   "metadata": {},
   "outputs": [],
   "source": []
  }
 ],
 "metadata": {
  "kernelspec": {
   "display_name": "Python [conda env:PythonData] *",
   "language": "python",
   "name": "conda-env-PythonData-py"
  },
  "language_info": {
   "codemirror_mode": {
    "name": "ipython",
    "version": 3
   },
   "file_extension": ".py",
   "mimetype": "text/x-python",
   "name": "python",
   "nbconvert_exporter": "python",
   "pygments_lexer": "ipython3",
   "version": "3.6.12"
  },
  "latex_envs": {
   "LaTeX_envs_menu_present": true,
   "autoclose": false,
   "autocomplete": true,
   "bibliofile": "biblio.bib",
   "cite_by": "apalike",
   "current_citInitial": 1,
   "eqLabelWithNumbers": true,
   "eqNumInitial": 1,
   "hotkeys": {
    "equation": "Ctrl-E",
    "itemize": "Ctrl-I"
   },
   "labels_anchors": false,
   "latex_user_defs": false,
   "report_style_numbering": false,
   "user_envs_cfg": false
  }
 },
 "nbformat": 4,
 "nbformat_minor": 4
}
